{
 "cells": [
  {
   "cell_type": "code",
   "execution_count": 87,
   "id": "11264fda",
   "metadata": {},
   "outputs": [],
   "source": [
    "# importing libraries\n",
    "from sklearn.linear_model import LinearRegression\n",
    "from sklearn.tree import DecisionTreeRegressor\n",
    "from sklearn.model_selection import RandomizedSearchCV\n",
    "from sklearn.metrics import r2_score\n",
    "from sklearn.ensemble import RandomForestRegressor\n",
    "from sklearn.metrics import mean_squared_error\n",
    "import pandas as pd\n",
    "import seaborn as sns\n",
    "import numpy as np"
   ]
  },
  {
   "cell_type": "code",
   "execution_count": 88,
   "id": "9f00c10b",
   "metadata": {},
   "outputs": [],
   "source": [
    "#readning test&train data\n",
    "test=pd.read_csv('test.csv')\n",
    "train=pd.read_csv('train.csv')\n",
    "right_answers=pd.read_csv('sample_submission.csv')\n",
    "\n"
   ]
  },
  {
   "cell_type": "code",
   "execution_count": 89,
   "id": "ce9277ca",
   "metadata": {},
   "outputs": [
    {
     "data": {
      "text/html": [
       "<div>\n",
       "<style scoped>\n",
       "    .dataframe tbody tr th:only-of-type {\n",
       "        vertical-align: middle;\n",
       "    }\n",
       "\n",
       "    .dataframe tbody tr th {\n",
       "        vertical-align: top;\n",
       "    }\n",
       "\n",
       "    .dataframe thead th {\n",
       "        text-align: right;\n",
       "    }\n",
       "</style>\n",
       "<table border=\"1\" class=\"dataframe\">\n",
       "  <thead>\n",
       "    <tr style=\"text-align: right;\">\n",
       "      <th></th>\n",
       "      <th>Id</th>\n",
       "      <th>MSSubClass</th>\n",
       "      <th>MSZoning</th>\n",
       "      <th>LotFrontage</th>\n",
       "      <th>LotArea</th>\n",
       "      <th>Street</th>\n",
       "      <th>Alley</th>\n",
       "      <th>LotShape</th>\n",
       "      <th>LandContour</th>\n",
       "      <th>Utilities</th>\n",
       "      <th>...</th>\n",
       "      <th>PoolArea</th>\n",
       "      <th>PoolQC</th>\n",
       "      <th>Fence</th>\n",
       "      <th>MiscFeature</th>\n",
       "      <th>MiscVal</th>\n",
       "      <th>MoSold</th>\n",
       "      <th>YrSold</th>\n",
       "      <th>SaleType</th>\n",
       "      <th>SaleCondition</th>\n",
       "      <th>SalePrice</th>\n",
       "    </tr>\n",
       "  </thead>\n",
       "  <tbody>\n",
       "    <tr>\n",
       "      <th>0</th>\n",
       "      <td>1</td>\n",
       "      <td>60</td>\n",
       "      <td>RL</td>\n",
       "      <td>65.0</td>\n",
       "      <td>8450</td>\n",
       "      <td>Pave</td>\n",
       "      <td>NaN</td>\n",
       "      <td>Reg</td>\n",
       "      <td>Lvl</td>\n",
       "      <td>AllPub</td>\n",
       "      <td>...</td>\n",
       "      <td>0</td>\n",
       "      <td>NaN</td>\n",
       "      <td>NaN</td>\n",
       "      <td>NaN</td>\n",
       "      <td>0</td>\n",
       "      <td>2</td>\n",
       "      <td>2008</td>\n",
       "      <td>WD</td>\n",
       "      <td>Normal</td>\n",
       "      <td>208500</td>\n",
       "    </tr>\n",
       "    <tr>\n",
       "      <th>1</th>\n",
       "      <td>2</td>\n",
       "      <td>20</td>\n",
       "      <td>RL</td>\n",
       "      <td>80.0</td>\n",
       "      <td>9600</td>\n",
       "      <td>Pave</td>\n",
       "      <td>NaN</td>\n",
       "      <td>Reg</td>\n",
       "      <td>Lvl</td>\n",
       "      <td>AllPub</td>\n",
       "      <td>...</td>\n",
       "      <td>0</td>\n",
       "      <td>NaN</td>\n",
       "      <td>NaN</td>\n",
       "      <td>NaN</td>\n",
       "      <td>0</td>\n",
       "      <td>5</td>\n",
       "      <td>2007</td>\n",
       "      <td>WD</td>\n",
       "      <td>Normal</td>\n",
       "      <td>181500</td>\n",
       "    </tr>\n",
       "    <tr>\n",
       "      <th>2</th>\n",
       "      <td>3</td>\n",
       "      <td>60</td>\n",
       "      <td>RL</td>\n",
       "      <td>68.0</td>\n",
       "      <td>11250</td>\n",
       "      <td>Pave</td>\n",
       "      <td>NaN</td>\n",
       "      <td>IR1</td>\n",
       "      <td>Lvl</td>\n",
       "      <td>AllPub</td>\n",
       "      <td>...</td>\n",
       "      <td>0</td>\n",
       "      <td>NaN</td>\n",
       "      <td>NaN</td>\n",
       "      <td>NaN</td>\n",
       "      <td>0</td>\n",
       "      <td>9</td>\n",
       "      <td>2008</td>\n",
       "      <td>WD</td>\n",
       "      <td>Normal</td>\n",
       "      <td>223500</td>\n",
       "    </tr>\n",
       "    <tr>\n",
       "      <th>3</th>\n",
       "      <td>4</td>\n",
       "      <td>70</td>\n",
       "      <td>RL</td>\n",
       "      <td>60.0</td>\n",
       "      <td>9550</td>\n",
       "      <td>Pave</td>\n",
       "      <td>NaN</td>\n",
       "      <td>IR1</td>\n",
       "      <td>Lvl</td>\n",
       "      <td>AllPub</td>\n",
       "      <td>...</td>\n",
       "      <td>0</td>\n",
       "      <td>NaN</td>\n",
       "      <td>NaN</td>\n",
       "      <td>NaN</td>\n",
       "      <td>0</td>\n",
       "      <td>2</td>\n",
       "      <td>2006</td>\n",
       "      <td>WD</td>\n",
       "      <td>Abnorml</td>\n",
       "      <td>140000</td>\n",
       "    </tr>\n",
       "    <tr>\n",
       "      <th>4</th>\n",
       "      <td>5</td>\n",
       "      <td>60</td>\n",
       "      <td>RL</td>\n",
       "      <td>84.0</td>\n",
       "      <td>14260</td>\n",
       "      <td>Pave</td>\n",
       "      <td>NaN</td>\n",
       "      <td>IR1</td>\n",
       "      <td>Lvl</td>\n",
       "      <td>AllPub</td>\n",
       "      <td>...</td>\n",
       "      <td>0</td>\n",
       "      <td>NaN</td>\n",
       "      <td>NaN</td>\n",
       "      <td>NaN</td>\n",
       "      <td>0</td>\n",
       "      <td>12</td>\n",
       "      <td>2008</td>\n",
       "      <td>WD</td>\n",
       "      <td>Normal</td>\n",
       "      <td>250000</td>\n",
       "    </tr>\n",
       "  </tbody>\n",
       "</table>\n",
       "<p>5 rows × 81 columns</p>\n",
       "</div>"
      ],
      "text/plain": [
       "   Id  MSSubClass MSZoning  LotFrontage  LotArea Street Alley LotShape  \\\n",
       "0   1          60       RL         65.0     8450   Pave   NaN      Reg   \n",
       "1   2          20       RL         80.0     9600   Pave   NaN      Reg   \n",
       "2   3          60       RL         68.0    11250   Pave   NaN      IR1   \n",
       "3   4          70       RL         60.0     9550   Pave   NaN      IR1   \n",
       "4   5          60       RL         84.0    14260   Pave   NaN      IR1   \n",
       "\n",
       "  LandContour Utilities  ... PoolArea PoolQC Fence MiscFeature MiscVal MoSold  \\\n",
       "0         Lvl    AllPub  ...        0    NaN   NaN         NaN       0      2   \n",
       "1         Lvl    AllPub  ...        0    NaN   NaN         NaN       0      5   \n",
       "2         Lvl    AllPub  ...        0    NaN   NaN         NaN       0      9   \n",
       "3         Lvl    AllPub  ...        0    NaN   NaN         NaN       0      2   \n",
       "4         Lvl    AllPub  ...        0    NaN   NaN         NaN       0     12   \n",
       "\n",
       "  YrSold  SaleType  SaleCondition  SalePrice  \n",
       "0   2008        WD         Normal     208500  \n",
       "1   2007        WD         Normal     181500  \n",
       "2   2008        WD         Normal     223500  \n",
       "3   2006        WD        Abnorml     140000  \n",
       "4   2008        WD         Normal     250000  \n",
       "\n",
       "[5 rows x 81 columns]"
      ]
     },
     "execution_count": 89,
     "metadata": {},
     "output_type": "execute_result"
    }
   ],
   "source": [
    "train.head()"
   ]
  },
  {
   "cell_type": "code",
   "execution_count": 90,
   "id": "369249a2",
   "metadata": {},
   "outputs": [
    {
     "data": {
      "text/plain": [
       "Id                 0\n",
       "MSSubClass         0\n",
       "MSZoning           0\n",
       "LotFrontage      259\n",
       "LotArea            0\n",
       "                ... \n",
       "MoSold             0\n",
       "YrSold             0\n",
       "SaleType           0\n",
       "SaleCondition      0\n",
       "SalePrice          0\n",
       "Length: 81, dtype: int64"
      ]
     },
     "execution_count": 90,
     "metadata": {},
     "output_type": "execute_result"
    }
   ],
   "source": [
    "#checking data to missing value\n",
    "train.isnull().sum()"
   ]
  },
  {
   "cell_type": "code",
   "execution_count": 91,
   "id": "a586303b",
   "metadata": {},
   "outputs": [
    {
     "data": {
      "text/plain": [
       "Id                 0\n",
       "MSSubClass         0\n",
       "MSZoning           4\n",
       "LotFrontage      227\n",
       "LotArea            0\n",
       "                ... \n",
       "MiscVal            0\n",
       "MoSold             0\n",
       "YrSold             0\n",
       "SaleType           1\n",
       "SaleCondition      0\n",
       "Length: 80, dtype: int64"
      ]
     },
     "execution_count": 91,
     "metadata": {},
     "output_type": "execute_result"
    }
   ],
   "source": [
    "test.isnull().sum()"
   ]
  },
  {
   "cell_type": "code",
   "execution_count": 92,
   "id": "fc535401",
   "metadata": {},
   "outputs": [],
   "source": [
    "# filling missing value of sample \n",
    "train_columns=[i for i in train.columns if train[i].isnull().any()]\n",
    "test_columns=[i for i in test.columns if test[i].isnull().any()]\n",
    "mean_lotfrontage_train=round(np.mean(train.LotFrontage))\n",
    "mean_lotfrontage_test=round(np.mean(test.LotFrontage))\n",
    "train=train.fillna({'LotFrontage':mean_lotfrontage_train,'Alley':'Absent','BsmtCond':'Absent','BsmtExposure':'No Basement','BsmtFinType1':'Absent','BsmtFinType2':'Absent','BsmtQual':'Absent','Electrical':'SBrkr','FireplaceQu':'Absent','GarageCond':'Absent','GarageFinish':'Absent','GarageQual':'Absent','GarageType':'Absent','GarageYrBlt':0,'MasVnrArea':0,'MasVnrType':'Absent','MiscFeature':'Absent','PoolQC':'Absent','Fence':'Absent'})\n",
    "test=test.fillna({'LotFrontage':mean_lotfrontage_test,'Alley':'Absent','BsmtCond':'Absent','BsmtExposure':'No Basement','BsmtFinType1':'Absent','BsmtFinType2':'Absent','BsmtQual':'Absent','Electrical':'SBrkr','FireplaceQu':'Absent','GarageCond':'Absent','GarageFinish':'Absent','GarageQual':'Absent','GarageType':'Absent','GarageYrBlt':0,'MasVnrArea':0,'MasVnrType':'Absent','MiscFeature':'Absent','PoolQC':'Absent','Fence':'Absent','MSZoning':'RL','Utilities':'NoSeWa','Exterior1st':'VinylSd','Exterior2nd':'VinylSd','BsmtFinSF1':0,'BsmtFinSF2':0,'BsmtUnfSF':0,'TotalBsmtSF':0,'BsmtFullBath':0,'BsmtHalfBath':0,'KitchenQual':'TA','Functional':'Typ','GarageCars':2,'GarageArea':473,'SaleType':'WD'})\n"
   ]
  },
  {
   "cell_type": "code",
   "execution_count": 93,
   "id": "eccd3dc5",
   "metadata": {},
   "outputs": [],
   "source": [
    "#change unequal column values in train and test\n",
    "train['MiscFeature'] = train['MiscFeature'].replace(['TenC'],['Shed'])\n",
    "train['PoolQC'] = train['PoolQC'].replace(['Fa'],['Gd'])\n",
    "train['GarageQual'] = train['GarageQual'].replace(['Ex'],['Po'])\n",
    "train['Electrical'] = train['Electrical'].replace(['Mix'],['SBrkr'])\n",
    "train['Heating'] = train['Heating'].replace(['OthW','Floor'],['GasA','GasA'])\n",
    "train['Exterior1st'] = train['Exterior1st'].replace(['ImStucc','Stone'],['VinylSd','VinylSd'])\n",
    "train['Exterior2nd'] = train['Exterior2nd'].replace(['Other'],['VinylSd'])\n",
    "train['HouseStyle'] = train['HouseStyle'].replace(['2.5Fin','Other'],['1Story','1Story'])\n",
    "train['Condition2'] = train['Condition2'].replace(['RRNn','RRNe','RRAe','RRAn'],['Norm','Norm','Norm','Norm'])\n",
    "train['RoofMatl'] = train['RoofMatl'].replace(['ClyTile','Membran','Metal','Roll'],['CompShg','CompShg','CompShg','CompShg'])"
   ]
  },
  {
   "cell_type": "code",
   "execution_count": 94,
   "id": "29caf5ac",
   "metadata": {},
   "outputs": [
    {
     "data": {
      "text/plain": [
       "<AxesSubplot:>"
      ]
     },
     "execution_count": 94,
     "metadata": {},
     "output_type": "execute_result"
    },
    {
     "data": {
      "image/png": "[encoded data removed]",
      "text/plain": [
       "<Figure size 432x288 with 1 Axes>"
      ]
     },
     "metadata": {
      "needs_background": "light"
     },
     "output_type": "display_data"
    }
   ],
   "source": [
    "# viewing distibution of LotArea\n",
    "sns.set_style(rc={'figure.figsize':(10,8)})\n",
    "train.LotArea.plot()"
   ]
  },
  {
   "cell_type": "code",
   "execution_count": 95,
   "id": "fac5773f",
   "metadata": {},
   "outputs": [],
   "source": [
    "# #deleating columns with only one value\n",
    "def checking_unique_value(data):\n",
    "    for col in data.columns:\n",
    "            if len(data[col].unique()) == 1:\n",
    "                data=data.drop(col,axis=1)\n",
    "    return data\n",
    "train=checking_unique_value(train)\n",
    "test=checking_unique_value(test)\n"
   ]
  },
  {
   "cell_type": "code",
   "execution_count": 96,
   "id": "74205546",
   "metadata": {},
   "outputs": [
    {
     "data": {
      "text/plain": [
       "<AxesSubplot:xlabel='YearBuilt', ylabel='Count'>"
      ]
     },
     "execution_count": 96,
     "metadata": {},
     "output_type": "execute_result"
    },
    {
     "data": {
      "image/png": "[encoded data removed]",
      "text/plain": [
       "<Figure size 432x288 with 1 Axes>"
      ]
     },
     "metadata": {
      "needs_background": "light"
     },
     "output_type": "display_data"
    }
   ],
   "source": [
    "# viewing distibution of YearBuilt\n",
    "sns.histplot(data=train,x='YearBuilt')"
   ]
  },
  {
   "cell_type": "code",
   "execution_count": 97,
   "id": "01eac315",
   "metadata": {},
   "outputs": [],
   "source": [
    "# split our train sample to X_train , y_train and processing right_answers \n",
    "X_train=train.drop(['SalePrice'],axis=1)\n",
    "y_train = train.SalePrice\n",
    "right_answers=right_answers.drop(['Id'],axis=1)\n",
    "right_answers=right_answers.to_numpy()\n",
    "right_answers=right_answers.reshape(-1,1)"
   ]
  },
  {
   "cell_type": "code",
   "execution_count": 98,
   "id": "230186f1",
   "metadata": {},
   "outputs": [],
   "source": [
    "# deleting highly correlated columns\n",
    "columns_to_delete=[]\n",
    "cor_matrix = X_train.corr().abs()\n",
    "upper_tri = cor_matrix.where(np.triu(np.ones(cor_matrix.shape),k=1).astype(bool))\n",
    "to_drop_train = list([column for column in upper_tri.columns if any(upper_tri[column] > 0.6)])\n",
    "cor_matrix = test.corr().abs()\n",
    "upper_tri = cor_matrix.where(np.triu(np.ones(cor_matrix.shape),k=1).astype(bool))\n",
    "to_drop_test= list([column for column in upper_tri.columns if any(upper_tri[column] > 0.6)])\n",
    "for column_to_delete in to_drop_test:\n",
    "    if column_to_delete in to_drop_train:\n",
    "        columns_to_delete.append(column_to_delete)\n",
    "test=test.drop(columns_to_delete,axis=1)\n",
    "X_train=X_train.drop(columns_to_delete,axis=1)\n"
   ]
  },
  {
   "cell_type": "code",
   "execution_count": 99,
   "id": "4d083d10",
   "metadata": {},
   "outputs": [],
   "source": [
    "# one hot encoding  \n",
    "columns_to_encode_train=list(X_train.select_dtypes(include='object').columns)\n",
    "columns_to_encode_test=list(test.select_dtypes(include='object').columns)\n",
    "X_train=pd.get_dummies(data=X_train,columns=columns_to_encode_train)\n",
    "test=pd.get_dummies(data=test,columns=columns_to_encode_test)"
   ]
  },
  {
   "cell_type": "markdown",
   "id": "2854fa5e",
   "metadata": {},
   "source": [
    "Now we must to choose the best model to our task.We will compare DecisionTreeRegressor , LinearRegression and ."
   ]
  },
  {
   "cell_type": "code",
   "execution_count": 100,
   "id": "308fad92",
   "metadata": {},
   "outputs": [],
   "source": [
    "# choosing parametrs for DecisionTreeRegressor and RandomForestRegressor\n",
    "parameters={'max_depth':range(1,51,10),'min_samples_leaf':range(1,51,5),'min_samples_split':range(2,101,5)}"
   ]
  },
  {
   "cell_type": "code",
   "execution_count": 101,
   "id": "8439d5b2",
   "metadata": {},
   "outputs": [
    {
     "data": {
      "text/plain": [
       "0.8529741283476936"
      ]
     },
     "execution_count": 101,
     "metadata": {},
     "output_type": "execute_result"
    }
   ],
   "source": [
    "#Checking score of DecisionTreeRegressor \n",
    "tree=DecisionTreeRegressor(random_state=42)\n",
    "random_regressor=RandomizedSearchCV(tree,parameters,cv=5)\n",
    "random_regressor.fit(X_train,y_train)\n",
    "tree=random_regressor.best_estimator_\n",
    "tree.score(X_train,y_train)"
   ]
  },
  {
   "cell_type": "code",
   "execution_count": 102,
   "id": "fe931472",
   "metadata": {},
   "outputs": [
    {
     "data": {
      "text/plain": [
       "0.9104091304852584"
      ]
     },
     "execution_count": 102,
     "metadata": {},
     "output_type": "execute_result"
    }
   ],
   "source": [
    "#Checking score of LinearRegression\n",
    "model=LinearRegression()\n",
    "model.fit(X_train,y_train)\n",
    "model.score(X_train,y_train)"
   ]
  },
  {
   "cell_type": "code",
   "execution_count": 103,
   "id": "ee94d770",
   "metadata": {},
   "outputs": [],
   "source": [
    "#Checking score  of RandomForestRegressor\n",
    "forest = RandomForestRegressor()\n",
    "random_regressor=RandomizedSearchCV(forest,parameters,cv=5)\n",
    "random_regressor.fit(X_train,y_train)\n",
    "forest=random_regressor.best_estimator_"
   ]
  },
  {
   "cell_type": "code",
   "execution_count": 104,
   "id": "6adeff3f",
   "metadata": {},
   "outputs": [],
   "source": [
    "#predicting and processing  data\n",
    "predict_tree=tree.predict(test)\n",
    "predict_model=model.predict(test)\n",
    "predict_tree = np.reshape(predict_tree, (1459, 1))\n",
    "predict_model = np.reshape(predict_model, (1459, 1))\n",
    "predict_forest=forest.predict(test)\n"
   ]
  },
  {
   "cell_type": "code",
   "execution_count": 105,
   "id": "b9e92181",
   "metadata": {},
   "outputs": [],
   "source": [
    "# saving score \n",
    "score_tree=mean_squared_error(right_answers,predict_tree)\n",
    "score_forest=mean_squared_error(right_answers,predict_forest)\n",
    "score_model=mean_squared_error(right_answers,predict_model)"
   ]
  }
 ],
 "metadata": {
  "kernelspec": {
   "display_name": "Python 3 (ipykernel)",
   "language": "python",
   "name": "python3"
  },
  "language_info": {
   "codemirror_mode": {
    "name": "ipython",
    "version": 3
   },
   "file_extension": ".py",
   "mimetype": "text/x-python",
   "name": "python",
   "nbconvert_exporter": "python",
   "pygments_lexer": "ipython3",
   "version": "3.9.7"
  }
 },
 "nbformat": 4,
 "nbformat_minor": 5
}
